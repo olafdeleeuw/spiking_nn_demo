{
 "cells": [
  {
   "cell_type": "markdown",
   "metadata": {
    "collapsed": true,
    "pycharm": {
     "name": "#%% md\n"
    }
   },
   "source": [
    "## BindsNet Poisson Encoder"
   ]
  },
  {
   "cell_type": "code",
   "execution_count": null,
   "metadata": {
    "pycharm": {
     "name": "#%%\n"
    }
   },
   "outputs": [],
   "source": [
    "%pip install bindsnet\n",
    "%pip install torch"
   ]
  },
  {
   "cell_type": "markdown",
   "metadata": {
    "pycharm": {
     "name": "#%% md\n"
    }
   },
   "source": [
    "### Libraries"
   ]
  },
  {
   "cell_type": "code",
   "execution_count": 1,
   "metadata": {
    "pycharm": {
     "name": "#%%\n"
    }
   },
   "outputs": [],
   "source": [
    "import os\n",
    "import copy\n",
    "import numpy as np\n",
    "import torch\n",
    "import pandas as pd\n",
    "\n",
    "from matplotlib import pyplot as plt\n",
    "\n",
    "from bindsnet.encoding import PoissonEncoder\n",
    "from bindsnet.datasets import MNIST\n",
    "from torchvision import transforms\n",
    "\n",
    "plt.rcParams['figure.figsize'] = [20, 10]"
   ]
  },
  {
   "cell_type": "markdown",
   "metadata": {
    "pycharm": {
     "name": "#%% md\n"
    }
   },
   "source": [
    "### Parameters"
   ]
  },
  {
   "cell_type": "code",
   "execution_count": 2,
   "metadata": {
    "pycharm": {
     "name": "#%%\n"
    }
   },
   "outputs": [],
   "source": [
    "time_window = 250  # time in ms\n",
    "dt = 1  # interval length in ms\n",
    "intensity = 128  # input layer Poisson spikes maximum firing rate, in Hz"
   ]
  },
  {
   "cell_type": "markdown",
   "metadata": {
    "pycharm": {
     "name": "#%% md\n"
    }
   },
   "source": [
    "### Load MNIST dataset"
   ]
  },
  {
   "cell_type": "code",
   "execution_count": 3,
   "metadata": {
    "pycharm": {
     "name": "#%%\n"
    }
   },
   "outputs": [
    {
     "name": "stdout",
     "output_type": "stream",
     "text": [
      "Downloading http://yann.lecun.com/exdb/mnist/train-images-idx3-ubyte.gz\n",
      "Downloading http://yann.lecun.com/exdb/mnist/train-images-idx3-ubyte.gz to ../data/MNIST/TorchvisionDatasetWrapper/raw/train-images-idx3-ubyte.gz\n"
     ]
    },
    {
     "data": {
      "text/plain": "  0%|          | 0/9912422 [00:00<?, ?it/s]",
      "application/vnd.jupyter.widget-view+json": {
       "version_major": 2,
       "version_minor": 0,
       "model_id": "44174c98e3bc4bb183b9f517c7248127"
      }
     },
     "metadata": {},
     "output_type": "display_data"
    },
    {
     "name": "stdout",
     "output_type": "stream",
     "text": [
      "Extracting ../data/MNIST/TorchvisionDatasetWrapper/raw/train-images-idx3-ubyte.gz to ../data/MNIST/TorchvisionDatasetWrapper/raw\n",
      "\n",
      "Downloading http://yann.lecun.com/exdb/mnist/train-labels-idx1-ubyte.gz\n",
      "Downloading http://yann.lecun.com/exdb/mnist/train-labels-idx1-ubyte.gz to ../data/MNIST/TorchvisionDatasetWrapper/raw/train-labels-idx1-ubyte.gz\n"
     ]
    },
    {
     "data": {
      "text/plain": "  0%|          | 0/28881 [00:00<?, ?it/s]",
      "application/vnd.jupyter.widget-view+json": {
       "version_major": 2,
       "version_minor": 0,
       "model_id": "ba01912580c0460994108a41d2a3233b"
      }
     },
     "metadata": {},
     "output_type": "display_data"
    },
    {
     "name": "stdout",
     "output_type": "stream",
     "text": [
      "Extracting ../data/MNIST/TorchvisionDatasetWrapper/raw/train-labels-idx1-ubyte.gz to ../data/MNIST/TorchvisionDatasetWrapper/raw\n",
      "\n",
      "Downloading http://yann.lecun.com/exdb/mnist/t10k-images-idx3-ubyte.gz\n",
      "Downloading http://yann.lecun.com/exdb/mnist/t10k-images-idx3-ubyte.gz to ../data/MNIST/TorchvisionDatasetWrapper/raw/t10k-images-idx3-ubyte.gz\n"
     ]
    },
    {
     "data": {
      "text/plain": "  0%|          | 0/1648877 [00:00<?, ?it/s]",
      "application/vnd.jupyter.widget-view+json": {
       "version_major": 2,
       "version_minor": 0,
       "model_id": "ccf321ed469642ea8c9c4e0baf1fe492"
      }
     },
     "metadata": {},
     "output_type": "display_data"
    },
    {
     "name": "stdout",
     "output_type": "stream",
     "text": [
      "Extracting ../data/MNIST/TorchvisionDatasetWrapper/raw/t10k-images-idx3-ubyte.gz to ../data/MNIST/TorchvisionDatasetWrapper/raw\n",
      "\n",
      "Downloading http://yann.lecun.com/exdb/mnist/t10k-labels-idx1-ubyte.gz\n",
      "Downloading http://yann.lecun.com/exdb/mnist/t10k-labels-idx1-ubyte.gz to ../data/MNIST/TorchvisionDatasetWrapper/raw/t10k-labels-idx1-ubyte.gz\n"
     ]
    },
    {
     "data": {
      "text/plain": "  0%|          | 0/4542 [00:00<?, ?it/s]",
      "application/vnd.jupyter.widget-view+json": {
       "version_major": 2,
       "version_minor": 0,
       "model_id": "e1bde58729094e44a944bea243602a65"
      }
     },
     "metadata": {},
     "output_type": "display_data"
    },
    {
     "name": "stdout",
     "output_type": "stream",
     "text": [
      "Extracting ../data/MNIST/TorchvisionDatasetWrapper/raw/t10k-labels-idx1-ubyte.gz to ../data/MNIST/TorchvisionDatasetWrapper/raw\n",
      "\n"
     ]
    }
   ],
   "source": [
    "# Load MNIST data.\n",
    "dataset = MNIST(\n",
    "    image_encoder=PoissonEncoder(time=time_window, dt=dt),\n",
    "    label_encoder=None,\n",
    "    root=os.path.join(\"..\", \"data\", \"MNIST\"),\n",
    "    download=True,\n",
    "    transform=transforms.Compose([transforms.ToTensor(), transforms.Lambda(lambda x: x * intensity)])\n",
    ")"
   ]
  },
  {
   "cell_type": "markdown",
   "metadata": {
    "pycharm": {
     "name": "#%% md\n"
    }
   },
   "source": [
    "### Examples"
   ]
  },
  {
   "cell_type": "code",
   "execution_count": 4,
   "metadata": {
    "pycharm": {
     "name": "#%%\n"
    }
   },
   "outputs": [
    {
     "name": "stdout",
     "output_type": "stream",
     "text": [
      "This dataset is dict with the following keys: dict_keys(['image', 'label', 'encoded_image', 'encoded_label'])\n"
     ]
    }
   ],
   "source": [
    "print(f\"This dataset is dict with the following keys: {dataset[0].keys()}\")"
   ]
  },
  {
   "cell_type": "code",
   "execution_count": 5,
   "metadata": {
    "pycharm": {
     "name": "#%%\n"
    }
   },
   "outputs": [
    {
     "name": "stdout",
     "output_type": "stream",
     "text": [
      "The first element is the digit: 5\n"
     ]
    },
    {
     "data": {
      "text/plain": "<Figure size 1440x720 with 1 Axes>",
      "image/png": "[encoded data removed]"
     },
     "metadata": {
      "needs_background": "light"
     },
     "output_type": "display_data"
    }
   ],
   "source": [
    "first_image = np.array(dataset[0][\"image\"], dtype='float')\n",
    "print(f\"The first element is the digit: {dataset[0]['label']}\")\n",
    "pixels = first_image.reshape((28, 28))\n",
    "plt.imshow(pixels, cmap='gray')\n",
    "plt.show()"
   ]
  },
  {
   "cell_type": "markdown",
   "metadata": {
    "pycharm": {
     "name": "#%% md\n"
    }
   },
   "source": [
    "##### In pixel grey levels"
   ]
  },
  {
   "cell_type": "code",
   "execution_count": 6,
   "metadata": {
    "pycharm": {
     "name": "#%%\n"
    }
   },
   "outputs": [
    {
     "data": {
      "text/plain": "tensor([[[  0.0000,   0.0000,   0.0000,   0.0000,   0.0000,   0.0000,   0.0000,\n            0.0000,   0.0000,   0.0000,   0.0000,   0.0000,   0.0000,   0.0000,\n            0.0000,   0.0000,   0.0000,   0.0000,   0.0000,   0.0000,   0.0000,\n            0.0000,   0.0000,   0.0000,   0.0000,   0.0000,   0.0000,   0.0000],\n         [  0.0000,   0.0000,   0.0000,   0.0000,   0.0000,   0.0000,   0.0000,\n            0.0000,   0.0000,   0.0000,   0.0000,   0.0000,   0.0000,   0.0000,\n            0.0000,   0.0000,   0.0000,   0.0000,   0.0000,   0.0000,   0.0000,\n            0.0000,   0.0000,   0.0000,   0.0000,   0.0000,   0.0000,   0.0000],\n         [  0.0000,   0.0000,   0.0000,   0.0000,   0.0000,   0.0000,   0.0000,\n            0.0000,   0.0000,   0.0000,   0.0000,   0.0000,   0.0000,   0.0000,\n            0.0000,   0.0000,   0.0000,   0.0000,   0.0000,   0.0000,   0.0000,\n            0.0000,   0.0000,   0.0000,   0.0000,   0.0000,   0.0000,   0.0000],\n         [  0.0000,   0.0000,   0.0000,   0.0000,   0.0000,   0.0000,   0.0000,\n            0.0000,   0.0000,   0.0000,   0.0000,   0.0000,   0.0000,   0.0000,\n            0.0000,   0.0000,   0.0000,   0.0000,   0.0000,   0.0000,   0.0000,\n            0.0000,   0.0000,   0.0000,   0.0000,   0.0000,   0.0000,   0.0000],\n         [  0.0000,   0.0000,   0.0000,   0.0000,   0.0000,   0.0000,   0.0000,\n            0.0000,   0.0000,   0.0000,   0.0000,   0.0000,   0.0000,   0.0000,\n            0.0000,   0.0000,   0.0000,   0.0000,   0.0000,   0.0000,   0.0000,\n            0.0000,   0.0000,   0.0000,   0.0000,   0.0000,   0.0000,   0.0000],\n         [  0.0000,   0.0000,   0.0000,   0.0000,   0.0000,   0.0000,   0.0000,\n            0.0000,   0.0000,   0.0000,   0.0000,   0.0000,   1.5059,   9.0353,\n            9.0353,   9.0353,  63.2471,  68.2667,  87.8431,  13.0510,  83.3255,\n          128.0000, 123.9843,  63.7490,   0.0000,   0.0000,   0.0000,   0.0000],\n         [  0.0000,   0.0000,   0.0000,   0.0000,   0.0000,   0.0000,   0.0000,\n            0.0000,  15.0588,  18.0706,  47.1843,  77.3020,  85.3333, 126.9961,\n          126.9961, 126.9961, 126.9961, 126.9961, 112.9412,  86.3373, 126.9961,\n          121.4745,  97.8824,  32.1255,   0.0000,   0.0000,   0.0000,   0.0000],\n         [  0.0000,   0.0000,   0.0000,   0.0000,   0.0000,   0.0000,   0.0000,\n           24.5961, 119.4667, 126.9961, 126.9961, 126.9961, 126.9961, 126.9961,\n          126.9961, 126.9961, 126.9961, 125.9922,  46.6824,  41.1608,  41.1608,\n           28.1098,  19.5765,   0.0000,   0.0000,   0.0000,   0.0000,   0.0000],\n         [  0.0000,   0.0000,   0.0000,   0.0000,   0.0000,   0.0000,   0.0000,\n            9.0353, 109.9294, 126.9961, 126.9961, 126.9961, 126.9961, 126.9961,\n           99.3882,  91.3569, 123.9843, 120.9725,   0.0000,   0.0000,   0.0000,\n            0.0000,   0.0000,   0.0000,   0.0000,   0.0000,   0.0000,   0.0000],\n         [  0.0000,   0.0000,   0.0000,   0.0000,   0.0000,   0.0000,   0.0000,\n            0.0000,  40.1569,  78.3059,  53.7098, 126.9961, 126.9961, 102.9020,\n            5.5216,   0.0000,  21.5843,  77.3020,   0.0000,   0.0000,   0.0000,\n            0.0000,   0.0000,   0.0000,   0.0000,   0.0000,   0.0000,   0.0000],\n         [  0.0000,   0.0000,   0.0000,   0.0000,   0.0000,   0.0000,   0.0000,\n            0.0000,   0.0000,   7.0275,   0.5020,  77.3020, 126.9961,  45.1765,\n            0.0000,   0.0000,   0.0000,   0.0000,   0.0000,   0.0000,   0.0000,\n            0.0000,   0.0000,   0.0000,   0.0000,   0.0000,   0.0000,   0.0000],\n         [  0.0000,   0.0000,   0.0000,   0.0000,   0.0000,   0.0000,   0.0000,\n            0.0000,   0.0000,   0.0000,   0.0000,  69.7726, 126.9961,  95.3726,\n            1.0039,   0.0000,   0.0000,   0.0000,   0.0000,   0.0000,   0.0000,\n            0.0000,   0.0000,   0.0000,   0.0000,   0.0000,   0.0000,   0.0000],\n         [  0.0000,   0.0000,   0.0000,   0.0000,   0.0000,   0.0000,   0.0000,\n            0.0000,   0.0000,   0.0000,   0.0000,   5.5216,  95.3726, 126.9961,\n           35.1373,   0.0000,   0.0000,   0.0000,   0.0000,   0.0000,   0.0000,\n            0.0000,   0.0000,   0.0000,   0.0000,   0.0000,   0.0000,   0.0000],\n         [  0.0000,   0.0000,   0.0000,   0.0000,   0.0000,   0.0000,   0.0000,\n            0.0000,   0.0000,   0.0000,   0.0000,   0.0000,  17.5686, 120.9725,\n          112.9412,  80.3137,  54.2118,   0.5020,   0.0000,   0.0000,   0.0000,\n            0.0000,   0.0000,   0.0000,   0.0000,   0.0000,   0.0000,   0.0000],\n         [  0.0000,   0.0000,   0.0000,   0.0000,   0.0000,   0.0000,   0.0000,\n            0.0000,   0.0000,   0.0000,   0.0000,   0.0000,   0.0000,  40.6588,\n          120.4706, 126.9961, 126.9961,  59.7333,  12.5490,   0.0000,   0.0000,\n            0.0000,   0.0000,   0.0000,   0.0000,   0.0000,   0.0000,   0.0000],\n         [  0.0000,   0.0000,   0.0000,   0.0000,   0.0000,   0.0000,   0.0000,\n            0.0000,   0.0000,   0.0000,   0.0000,   0.0000,   0.0000,   0.0000,\n           22.5882,  93.3647, 126.9961, 126.9961,  75.2941,  13.5529,   0.0000,\n            0.0000,   0.0000,   0.0000,   0.0000,   0.0000,   0.0000,   0.0000],\n         [  0.0000,   0.0000,   0.0000,   0.0000,   0.0000,   0.0000,   0.0000,\n            0.0000,   0.0000,   0.0000,   0.0000,   0.0000,   0.0000,   0.0000,\n            0.0000,   8.0314,  46.6824, 126.4941, 126.9961,  93.8667,   0.0000,\n            0.0000,   0.0000,   0.0000,   0.0000,   0.0000,   0.0000,   0.0000],\n         [  0.0000,   0.0000,   0.0000,   0.0000,   0.0000,   0.0000,   0.0000,\n            0.0000,   0.0000,   0.0000,   0.0000,   0.0000,   0.0000,   0.0000,\n            0.0000,   0.0000,   0.0000, 124.9882, 126.9961, 124.9882,  32.1255,\n            0.0000,   0.0000,   0.0000,   0.0000,   0.0000,   0.0000,   0.0000],\n         [  0.0000,   0.0000,   0.0000,   0.0000,   0.0000,   0.0000,   0.0000,\n            0.0000,   0.0000,   0.0000,   0.0000,   0.0000,   0.0000,   0.0000,\n           23.0902,  65.2549,  91.8588, 126.9961, 126.9961, 103.9059,   1.0039,\n            0.0000,   0.0000,   0.0000,   0.0000,   0.0000,   0.0000,   0.0000],\n         [  0.0000,   0.0000,   0.0000,   0.0000,   0.0000,   0.0000,   0.0000,\n            0.0000,   0.0000,   0.0000,   0.0000,   0.0000,  19.5765,  74.2902,\n          114.9490, 126.9961, 126.9961, 126.9961, 125.4902,  91.3569,   0.0000,\n            0.0000,   0.0000,   0.0000,   0.0000,   0.0000,   0.0000,   0.0000],\n         [  0.0000,   0.0000,   0.0000,   0.0000,   0.0000,   0.0000,   0.0000,\n            0.0000,   0.0000,   0.0000,  12.0471,  57.2235, 110.9333, 126.9961,\n          126.9961, 126.9961, 126.9961, 100.8941,  39.1529,   0.0000,   0.0000,\n            0.0000,   0.0000,   0.0000,   0.0000,   0.0000,   0.0000,   0.0000],\n         [  0.0000,   0.0000,   0.0000,   0.0000,   0.0000,   0.0000,   0.0000,\n            0.0000,  11.5451,  33.1294, 106.9176, 126.9961, 126.9961, 126.9961,\n          126.9961,  99.3882,  40.6588,   1.0039,   0.0000,   0.0000,   0.0000,\n            0.0000,   0.0000,   0.0000,   0.0000,   0.0000,   0.0000,   0.0000],\n         [  0.0000,   0.0000,   0.0000,   0.0000,   0.0000,   0.0000,   9.0353,\n           85.8353, 109.9294, 126.9961, 126.9961, 126.9961, 126.9961,  97.8824,\n           40.1569,   4.5176,   0.0000,   0.0000,   0.0000,   0.0000,   0.0000,\n            0.0000,   0.0000,   0.0000,   0.0000,   0.0000,   0.0000,   0.0000],\n         [  0.0000,   0.0000,   0.0000,   0.0000,  27.6078,  86.3373, 113.4431,\n          126.9961, 126.9961, 126.9961, 126.9961, 122.4784,  66.7608,   5.5216,\n            0.0000,   0.0000,   0.0000,   0.0000,   0.0000,   0.0000,   0.0000,\n            0.0000,   0.0000,   0.0000,   0.0000,   0.0000,   0.0000,   0.0000],\n         [  0.0000,   0.0000,   0.0000,   0.0000,  68.2667, 126.9961, 126.9961,\n          126.9961, 106.4157,  67.7647,  66.2588,   8.0314,   0.0000,   0.0000,\n            0.0000,   0.0000,   0.0000,   0.0000,   0.0000,   0.0000,   0.0000,\n            0.0000,   0.0000,   0.0000,   0.0000,   0.0000,   0.0000,   0.0000],\n         [  0.0000,   0.0000,   0.0000,   0.0000,   0.0000,   0.0000,   0.0000,\n            0.0000,   0.0000,   0.0000,   0.0000,   0.0000,   0.0000,   0.0000,\n            0.0000,   0.0000,   0.0000,   0.0000,   0.0000,   0.0000,   0.0000,\n            0.0000,   0.0000,   0.0000,   0.0000,   0.0000,   0.0000,   0.0000],\n         [  0.0000,   0.0000,   0.0000,   0.0000,   0.0000,   0.0000,   0.0000,\n            0.0000,   0.0000,   0.0000,   0.0000,   0.0000,   0.0000,   0.0000,\n            0.0000,   0.0000,   0.0000,   0.0000,   0.0000,   0.0000,   0.0000,\n            0.0000,   0.0000,   0.0000,   0.0000,   0.0000,   0.0000,   0.0000],\n         [  0.0000,   0.0000,   0.0000,   0.0000,   0.0000,   0.0000,   0.0000,\n            0.0000,   0.0000,   0.0000,   0.0000,   0.0000,   0.0000,   0.0000,\n            0.0000,   0.0000,   0.0000,   0.0000,   0.0000,   0.0000,   0.0000,\n            0.0000,   0.0000,   0.0000,   0.0000,   0.0000,   0.0000,   0.0000]]])"
     },
     "execution_count": 6,
     "metadata": {},
     "output_type": "execute_result"
    }
   ],
   "source": [
    "dataset[0][\"image\"]"
   ]
  },
  {
   "cell_type": "code",
   "execution_count": 7,
   "metadata": {},
   "outputs": [
    {
     "data": {
      "text/plain": "torch.Size([1, 28, 28])"
     },
     "execution_count": 7,
     "metadata": {},
     "output_type": "execute_result"
    }
   ],
   "source": [
    "dataset[0][\"image\"].shape"
   ]
  },
  {
   "cell_type": "code",
   "execution_count": 8,
   "metadata": {
    "pycharm": {
     "name": "#%%\n"
    }
   },
   "outputs": [
    {
     "data": {
      "text/plain": "tensor([  0.0000,   0.0000,   0.0000,   0.0000,   0.0000,   0.0000,   0.0000,\n          0.0000,  40.1569,  78.3059,  53.7098, 126.9961, 126.9961, 102.9020,\n          5.5216,   0.0000,  21.5843,  77.3020,   0.0000,   0.0000,   0.0000,\n          0.0000,   0.0000,   0.0000,   0.0000,   0.0000,   0.0000,   0.0000])"
     },
     "execution_count": 8,
     "metadata": {},
     "output_type": "execute_result"
    }
   ],
   "source": [
    "# Check for instance the 9th row\n",
    "dataset[0][\"image\"][0][9]"
   ]
  },
  {
   "cell_type": "markdown",
   "metadata": {
    "pycharm": {
     "name": "#%% md\n"
    }
   },
   "source": [
    "##### Encode in Spikes"
   ]
  },
  {
   "cell_type": "code",
   "execution_count": 9,
   "metadata": {
    "pycharm": {
     "name": "#%%\n"
    }
   },
   "outputs": [],
   "source": [
    "encoded_image_1 = copy.deepcopy(dataset[0][\"encoded_image\"])"
   ]
  },
  {
   "cell_type": "code",
   "execution_count": 10,
   "metadata": {
    "pycharm": {
     "name": "#%%\n"
    }
   },
   "outputs": [
    {
     "data": {
      "text/plain": "torch.Size([250, 1, 28, 28])"
     },
     "execution_count": 10,
     "metadata": {},
     "output_type": "execute_result"
    }
   ],
   "source": [
    "encoded_image_1.shape"
   ]
  },
  {
   "cell_type": "code",
   "execution_count": 18,
   "metadata": {
    "pycharm": {
     "name": "#%%\n"
    }
   },
   "outputs": [
    {
     "data": {
      "text/plain": "tensor([0, 0, 0, 0, 0, 0, 0, 0, 0, 1, 0, 0, 1, 1, 0, 0, 1, 0, 0, 0, 0, 0, 0, 0,\n        0, 0, 0, 0], dtype=torch.uint8)"
     },
     "execution_count": 18,
     "metadata": {},
     "output_type": "execute_result"
    }
   ],
   "source": [
    "# example of spike tensor in interval 2, row 9\n",
    "encoded_image_1[6][0][8]"
   ]
  },
  {
   "cell_type": "markdown",
   "metadata": {
    "pycharm": {
     "name": "#%% md\n"
    }
   },
   "source": [
    "This tensor is created via the BindsNet Poisson encoder. This encoder creates tensors with spike times during interval $\\delta$ with Poisson distribution based on intensity of image pixel. In case new spikes were generated the value for this interval in the output tensor becomes 1."
   ]
  },
  {
   "cell_type": "code",
   "execution_count": 19,
   "metadata": {
    "pycharm": {
     "name": "#%%\n"
    }
   },
   "outputs": [
    {
     "name": "stdout",
     "output_type": "stream",
     "text": [
      "The number of spike on row 0 are: 0\n",
      "The number of spike on row 1 are: 0\n",
      "The number of spike on row 2 are: 0\n",
      "The number of spike on row 3 are: 0\n",
      "The number of spike on row 4 are: 0\n",
      "The number of spike on row 5 are: 155\n",
      "The number of spike on row 6 are: 367\n",
      "The number of spike on row 7 are: 353\n",
      "The number of spike on row 8 are: 298\n",
      "The number of spike on row 9 are: 153\n",
      "The number of spike on row 10 are: 65\n",
      "The number of spike on row 11 are: 74\n",
      "The number of spike on row 12 are: 66\n",
      "The number of spike on row 13 are: 97\n",
      "The number of spike on row 14 are: 123\n",
      "The number of spike on row 15 are: 114\n",
      "The number of spike on row 16 are: 98\n",
      "The number of spike on row 17 are: 103\n",
      "The number of spike on row 18 are: 134\n",
      "The number of spike on row 19 are: 203\n",
      "The number of spike on row 20 are: 206\n",
      "The number of spike on row 21 are: 201\n",
      "The number of spike on row 22 are: 212\n",
      "The number of spike on row 23 are: 226\n",
      "The number of spike on row 24 are: 169\n",
      "The number of spike on row 25 are: 0\n",
      "The number of spike on row 26 are: 0\n",
      "The number of spike on row 27 are: 0\n"
     ]
    }
   ],
   "source": [
    "rows = []\n",
    "spikes = []\n",
    "sum_row = 0\n",
    "for r in range(encoded_image_1.shape[2]):\n",
    "    for i in range(int(time_window / dt)):\n",
    "        sum_row += torch.sum(encoded_image_1[i][0][r])\n",
    "        # print(encoded_image_1[i][0][r])\n",
    "    rows.append(r)\n",
    "    spikes.append(int(sum_row))\n",
    "    print(f\"The number of spike on row {r} are: {sum_row}\")\n",
    "    sum_row = 0"
   ]
  },
  {
   "cell_type": "code",
   "execution_count": 21,
   "metadata": {
    "pycharm": {
     "name": "#%%\n"
    }
   },
   "outputs": [
    {
     "data": {
      "text/plain": "<Figure size 1440x720 with 1 Axes>",
      "image/png": "[encoded data removed]"
     },
     "metadata": {
      "needs_background": "light"
     },
     "output_type": "display_data"
    }
   ],
   "source": [
    "row_spikes = pd.DataFrame({\"image_row\": rows, \"number_spikes\": spikes})\n",
    "plt.barh(\"image_row\", \"number_spikes\", data=row_spikes)\n",
    "plt.gca().invert_yaxis()\n",
    "plt.xlabel(\"Number of spikes\")\n",
    "plt.ylabel(\"Image row\")\n",
    "plt.title(\"Number of generated spikes per image row\")\n",
    "plt.show()"
   ]
  },
  {
   "cell_type": "markdown",
   "metadata": {
    "pycharm": {
     "name": "#%% md\n"
    }
   },
   "source": [
    "##### Example 2"
   ]
  },
  {
   "cell_type": "code",
   "execution_count": 22,
   "metadata": {
    "pycharm": {
     "name": "#%%\n"
    }
   },
   "outputs": [
    {
     "name": "stdout",
     "output_type": "stream",
     "text": [
      "The second element is the digit: 0\n"
     ]
    },
    {
     "data": {
      "text/plain": "<Figure size 1440x720 with 1 Axes>",
      "image/png": "[encoded data removed]"
     },
     "metadata": {
      "needs_background": "light"
     },
     "output_type": "display_data"
    }
   ],
   "source": [
    "second_image = np.array(dataset[1][\"image\"], dtype='float')\n",
    "print(f\"The second element is the digit: {dataset[1]['label']}\")\n",
    "pixels = second_image.reshape((28, 28))\n",
    "plt.imshow(pixels, cmap='gray')\n",
    "plt.show()"
   ]
  },
  {
   "cell_type": "code",
   "execution_count": 23,
   "metadata": {
    "pycharm": {
     "name": "#%%\n"
    }
   },
   "outputs": [
    {
     "name": "stdout",
     "output_type": "stream",
     "text": [
      "The number of spike on row 0 are: 0\n",
      "The number of spike on row 1 are: 0\n",
      "The number of spike on row 2 are: 0\n",
      "The number of spike on row 3 are: 0\n",
      "The number of spike on row 4 are: 79\n",
      "The number of spike on row 5 are: 164\n",
      "The number of spike on row 6 are: 199\n",
      "The number of spike on row 7 are: 237\n",
      "The number of spike on row 8 are: 292\n",
      "The number of spike on row 9 are: 257\n",
      "The number of spike on row 10 are: 214\n",
      "The number of spike on row 11 are: 200\n",
      "The number of spike on row 12 are: 184\n",
      "The number of spike on row 13 are: 161\n",
      "The number of spike on row 14 are: 168\n",
      "The number of spike on row 15 are: 158\n",
      "The number of spike on row 16 are: 146\n",
      "The number of spike on row 17 are: 153\n",
      "The number of spike on row 18 are: 136\n",
      "The number of spike on row 19 are: 163\n",
      "The number of spike on row 20 are: 242\n",
      "The number of spike on row 21 are: 288\n",
      "The number of spike on row 22 are: 230\n",
      "The number of spike on row 23 are: 137\n",
      "The number of spike on row 24 are: 0\n",
      "The number of spike on row 25 are: 0\n",
      "The number of spike on row 26 are: 0\n",
      "The number of spike on row 27 are: 0\n"
     ]
    }
   ],
   "source": [
    "encoded_image_2 = copy.deepcopy(dataset[1][\"encoded_image\"])\n",
    "rows = []\n",
    "spikes = []\n",
    "sum_row = 0\n",
    "for r in range(encoded_image_2.shape[2]):\n",
    "    for i in range(time_window):\n",
    "        sum_row += torch.sum(encoded_image_2[i][0][r])\n",
    "    rows.append(r)\n",
    "    spikes.append(int(sum_row))\n",
    "    print(f\"The number of spike on row {r} are: {sum_row}\")\n",
    "    sum_row = 0"
   ]
  },
  {
   "cell_type": "code",
   "execution_count": 24,
   "metadata": {
    "pycharm": {
     "name": "#%%\n"
    }
   },
   "outputs": [
    {
     "data": {
      "text/plain": "<Figure size 1440x720 with 1 Axes>",
      "image/png": "[encoded data removed]"
     },
     "metadata": {
      "needs_background": "light"
     },
     "output_type": "display_data"
    }
   ],
   "source": [
    "row_spikes = pd.DataFrame({\"image_row\": rows, \"number_spikes\": spikes})\n",
    "plt.barh(\"image_row\", \"number_spikes\", data=row_spikes)\n",
    "plt.gca().invert_yaxis()\n",
    "plt.xlabel(\"Number of spikes\")\n",
    "plt.ylabel(\"Image row\")\n",
    "plt.title(\"Number of generated spikes per image row\")\n",
    "plt.show()"
   ]
  }
 ],
 "metadata": {
  "kernelspec": {
   "display_name": "Python 3",
   "language": "python",
   "name": "python3"
  },
  "language_info": {
   "codemirror_mode": {
    "name": "ipython",
    "version": 3
   },
   "file_extension": ".py",
   "mimetype": "text/x-python",
   "name": "python",
   "nbconvert_exporter": "python",
   "pygments_lexer": "ipython3",
   "version": "3.9.1"
  },
  "toc": {
   "base_numbering": 1,
   "nav_menu": {},
   "number_sections": true,
   "sideBar": true,
   "skip_h1_title": false,
   "title_cell": "Table of Contents",
   "title_sidebar": "Contents",
   "toc_cell": false,
   "toc_position": {},
   "toc_section_display": true,
   "toc_window_display": true
  },
  "varInspector": {
   "cols": {
    "lenName": 16,
    "lenType": 16,
    "lenVar": 40
   },
   "kernels_config": {
    "python": {
     "delete_cmd_postfix": "",
     "delete_cmd_prefix": "del ",
     "library": "var_list.py",
     "varRefreshCmd": "print(var_dic_list())"
    },
    "r": {
     "delete_cmd_postfix": ") ",
     "delete_cmd_prefix": "rm(",
     "library": "var_list.r",
     "varRefreshCmd": "cat(var_dic_list()) "
    }
   },
   "types_to_exclude": [
    "module",
    "function",
    "builtin_function_or_method",
    "instance",
    "_Feature"
   ],
   "window_display": false
  }
 },
 "nbformat": 4,
 "nbformat_minor": 1
}